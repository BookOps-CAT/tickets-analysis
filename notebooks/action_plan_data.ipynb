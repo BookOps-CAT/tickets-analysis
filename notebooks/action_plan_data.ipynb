{
 "cells": [
  {
   "cell_type": "code",
   "execution_count": 1,
   "metadata": {},
   "outputs": [
    {
     "data": {
      "text/plain": [
       "(75724, 22)"
      ]
     },
     "execution_count": 1,
     "metadata": {},
     "output_type": "execute_result"
    }
   ],
   "source": [
    "import pandas as pd\n",
    "fh = '../files/tickets-gen-all.csv'\n",
    "df = pd.read_csv(fh, index_col=0, parse_dates=['created', 'opened_at', 'updated_on', 'resolved'])\n",
    "df.shape"
   ]
  },
  {
   "cell_type": "code",
   "execution_count": 2,
   "metadata": {},
   "outputs": [
    {
     "data": {
      "text/plain": [
       "Index(['created', 'caller', 'opened_at', 'opened_by', 'priority', 'state',\n",
       "       'category', 'subcategory', 'assignment_group', 'bpl_location',\n",
       "       'nyp_locaiton', 'resolved', 'assigned_to', 'system', 'closed_at',\n",
       "       'closed_by', 'mat_source', 'reassignment_count', 'reopen_count',\n",
       "       'resolved_by', 'updated_on', 'updated_by'],\n",
       "      dtype='object')"
      ]
     },
     "execution_count": 2,
     "metadata": {},
     "output_type": "execute_result"
    }
   ],
   "source": [
    "df.columns"
   ]
  },
  {
   "cell_type": "markdown",
   "metadata": {},
   "source": [
    "##### cataloging active tickets only"
   ]
  },
  {
   "cell_type": "code",
   "execution_count": 25,
   "metadata": {},
   "outputs": [],
   "source": [
    "cadf = df[((df['category'] == 'Cataloging') | (df['assignment_group'] == 'BKOPS CAT')) & ((df['state'] != 'Closed') & (df['state'] != 'Resolved'))]"
   ]
  },
  {
   "cell_type": "markdown",
   "metadata": {},
   "source": [
    "## Cataloging tickets requiring category change (diff dept)"
   ]
  },
  {
   "cell_type": "code",
   "execution_count": 26,
   "metadata": {},
   "outputs": [
    {
     "data": {
      "text/plain": [
       "array(['Cataloging', 'Acquisitions', 'Selection', 'Logistics',\n",
       "       'Offsite - ReCAP', 'Collections Processing', nan], dtype=object)"
      ]
     },
     "execution_count": 26,
     "metadata": {},
     "output_type": "execute_result"
    }
   ],
   "source": [
    "df['category'].unique()"
   ]
  },
  {
   "cell_type": "code",
   "execution_count": 27,
   "metadata": {},
   "outputs": [
    {
     "data": {
      "text/plain": [
       "array(['BKOPS CAT', 'BKOPS ACQ', 'BKOPS CPRC', 'BKOPS LOG', 'BKOPS RECAP',\n",
       "       'BKOPS SEL', 'IT ILS', 'IT Branch Library Support', nan,\n",
       "       'BKOPS ITIL', 'BKOPS LOG - MyLibNYC'], dtype=object)"
      ]
     },
     "execution_count": 27,
     "metadata": {},
     "output_type": "execute_result"
    }
   ],
   "source": [
    "df['assignment_group'].unique()"
   ]
  },
  {
   "cell_type": "code",
   "execution_count": 28,
   "metadata": {},
   "outputs": [],
   "source": [
    "cat_change_df = df[(df['category'] == 'Cataloging') & ((df['assignment_group'] != 'BKOPS CAT') & (df['assignment_group'].notnull()))]"
   ]
  },
  {
   "cell_type": "code",
   "execution_count": 29,
   "metadata": {},
   "outputs": [
    {
     "data": {
      "text/plain": [
       "587"
      ]
     },
     "execution_count": 29,
     "metadata": {},
     "output_type": "execute_result"
    }
   ],
   "source": [
    "cat_change_df.shape[0]"
   ]
  },
  {
   "cell_type": "code",
   "execution_count": 30,
   "metadata": {},
   "outputs": [],
   "source": [
    "cat_change_df_active = cat_change_df[(cat_change_df['state'] != 'Closed') & (cat_change_df['state'] != 'Resolved')]"
   ]
  },
  {
   "cell_type": "code",
   "execution_count": 31,
   "metadata": {},
   "outputs": [
    {
     "name": "stdout",
     "output_type": "stream",
     "text": [
      "# of tickets: 34\n"
     ]
    }
   ],
   "source": [
    "print(f'# of tickets: {cat_change_df_active.shape[0]}')"
   ]
  },
  {
   "cell_type": "markdown",
   "metadata": {},
   "source": [
    "## Awaiting User & Vendor tickets"
   ]
  },
  {
   "cell_type": "code",
   "execution_count": 41,
   "metadata": {},
   "outputs": [],
   "source": [
    "awaiting_df = cadf[((cadf['state'] == 'Awaiting Vendor') | (cadf['state'] == 'Awaiting User Info')) & (cadf['created'] < '2020-01-01')]"
   ]
  },
  {
   "cell_type": "code",
   "execution_count": 42,
   "metadata": {},
   "outputs": [
    {
     "data": {
      "text/plain": [
       "array(['Awaiting User Info', 'Awaiting Vendor'], dtype=object)"
      ]
     },
     "execution_count": 42,
     "metadata": {},
     "output_type": "execute_result"
    }
   ],
   "source": [
    "awaiting_df['state'].unique()"
   ]
  },
  {
   "cell_type": "code",
   "execution_count": 43,
   "metadata": {},
   "outputs": [
    {
     "name": "stdout",
     "output_type": "stream",
     "text": [
      "# of tickets: 748\n"
     ]
    }
   ],
   "source": [
    "print(f'# of tickets: {awaiting_df.shape[0]}')"
   ]
  },
  {
   "cell_type": "markdown",
   "metadata": {},
   "source": [
    "### NEW tickets backlog (older than mid February 2020)"
   ]
  },
  {
   "cell_type": "code",
   "execution_count": 45,
   "metadata": {},
   "outputs": [],
   "source": [
    "new_backlog_df = cadf[(cadf['state'] == 'New') & (cadf['assigned_to'].isnull())]"
   ]
  },
  {
   "cell_type": "code",
   "execution_count": 47,
   "metadata": {},
   "outputs": [
    {
     "data": {
      "text/plain": [
       "384"
      ]
     },
     "execution_count": 47,
     "metadata": {},
     "output_type": "execute_result"
    }
   ],
   "source": [
    "new_backlog_df.shape[0]"
   ]
  },
  {
   "cell_type": "code",
   "execution_count": 49,
   "metadata": {},
   "outputs": [
    {
     "name": "stdout",
     "output_type": "stream",
     "text": [
      "BPL Circulating # of tickets: 193\n",
      "NYPL Circulating # of tickets: 147\n",
      "NYPL Research # of tickets: 44\n"
     ]
    }
   ],
   "source": [
    "for lib, ldf in new_backlog_df.groupby('system'):\n",
    "    print(lib, f'# of tickets: {ldf.shape[0]}')"
   ]
  },
  {
   "cell_type": "markdown",
   "metadata": {},
   "source": [
    "## Active CAT tickets"
   ]
  },
  {
   "cell_type": "code",
   "execution_count": 54,
   "metadata": {},
   "outputs": [],
   "source": [
    "years = [2013, 2014, 2015, 2016, 2017, 2018, 2019, 2020]\n",
    "\n",
    "caadf = cadf[cadf['state'] == 'Active']\n",
    "\n",
    "for lib, ldf in caadf.groupby('system'):\n",
    "    staff_df = pd.DataFrame(columns=['staff', 'year', 'tickets'])\n",
    "    for staff, sdf in ldf.groupby('assigned_to'):\n",
    "        d = dict()\n",
    "        for y, ydf in sdf.groupby(sdf['created'].map(lambda x: x.year)):\n",
    "            d[y]={'staff': staff, 'year': y, 'tickets': ydf.shape[0]}\n",
    "        for y in years:\n",
    "            if y in d.keys():\n",
    "                 staff_df = staff_df.append(d[y], ignore_index=True)\n",
    "            else:\n",
    "                staff_df = staff_df.append({'staff': staff, 'year': y, 'tickets': 0}, ignore_index=True)\n",
    "                \n",
    "    staff_df.to_csv(f'../data-display/{lib}-active-tickets-by-staff.csv', index=False)\n",
    "    "
   ]
  },
  {
   "cell_type": "markdown",
   "metadata": {},
   "source": [
    "#### active by library per year"
   ]
  },
  {
   "cell_type": "code",
   "execution_count": 57,
   "metadata": {},
   "outputs": [],
   "source": [
    "lib_out_df = pd.DataFrame(columns=['library', 'year', 'tickets'])\n",
    "for lib, ldf in caadf.groupby('system'):\n",
    "    d = dict()\n",
    "    for y, ydf in ldf.groupby(ldf['created'].map(lambda x: x.year)):\n",
    "        d[y]={'library': lib, 'year': y, 'tickets': ydf.shape[0]}\n",
    "    for y in years:\n",
    "        if y in d.keys():\n",
    "             lib_out_df = lib_out_df.append(d[y], ignore_index=True)\n",
    "        else:\n",
    "            lib_out_df = lib_out_df.append({'library': lib, 'year': y, 'tickets': 0}, ignore_index=True)\n",
    "lib_out_df.to_csv('../data-display/cat-active-tickets-per-lib-timeline.csv', index=False)"
   ]
  },
  {
   "cell_type": "code",
   "execution_count": null,
   "metadata": {},
   "outputs": [],
   "source": []
  }
 ],
 "metadata": {
  "kernelspec": {
   "display_name": "Python 3",
   "language": "python",
   "name": "python3"
  },
  "language_info": {
   "codemirror_mode": {
    "name": "ipython",
    "version": 3
   },
   "file_extension": ".py",
   "mimetype": "text/x-python",
   "name": "python",
   "nbconvert_exporter": "python",
   "pygments_lexer": "ipython3",
   "version": "3.7.2"
  }
 },
 "nbformat": 4,
 "nbformat_minor": 4
}
