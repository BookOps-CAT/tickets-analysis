{
 "cells": [
  {
   "cell_type": "code",
   "execution_count": 2,
   "metadata": {},
   "outputs": [
    {
     "data": {
      "text/plain": [
       "(75724, 22)"
      ]
     },
     "execution_count": 2,
     "metadata": {},
     "output_type": "execute_result"
    }
   ],
   "source": [
    "import pandas as pd\n",
    "fh = '../files/tickets-gen-all.csv'\n",
    "df = pd.read_csv(fh, index_col=0, parse_dates=['created', 'opened_at', 'updated_on', 'resolved'])\n",
    "df.shape"
   ]
  },
  {
   "cell_type": "code",
   "execution_count": 3,
   "metadata": {},
   "outputs": [
    {
     "data": {
      "text/plain": [
       "Index(['created', 'caller', 'opened_at', 'opened_by', 'priority', 'state',\n",
       "       'category', 'subcategory', 'assignment_group', 'bpl_location',\n",
       "       'nyp_locaiton', 'resolved', 'assigned_to', 'system', 'closed_at',\n",
       "       'closed_by', 'mat_source', 'reassignment_count', 'reopen_count',\n",
       "       'resolved_by', 'updated_on', 'updated_by'],\n",
       "      dtype='object')"
      ]
     },
     "execution_count": 3,
     "metadata": {},
     "output_type": "execute_result"
    }
   ],
   "source": [
    "df.columns"
   ]
  },
  {
   "cell_type": "markdown",
   "metadata": {},
   "source": [
    "##### cataloging active tickets only"
   ]
  },
  {
   "cell_type": "code",
   "execution_count": 4,
   "metadata": {},
   "outputs": [],
   "source": [
    "cadf = df[((df['category'] == 'Cataloging') | (df['assignment_group'] == 'BKOPS CAT')) & ((df['state'] != 'Closed') & (df['state'] != 'Resolved'))]"
   ]
  },
  {
   "cell_type": "markdown",
   "metadata": {},
   "source": [
    "## Cataloging tickets requiring category change (diff dept)"
   ]
  },
  {
   "cell_type": "code",
   "execution_count": 5,
   "metadata": {},
   "outputs": [
    {
     "data": {
      "text/plain": [
       "array(['Cataloging', 'Acquisitions', 'Selection', 'Logistics',\n",
       "       'Offsite - ReCAP', 'Collections Processing', nan], dtype=object)"
      ]
     },
     "execution_count": 5,
     "metadata": {},
     "output_type": "execute_result"
    }
   ],
   "source": [
    "df['category'].unique()"
   ]
  },
  {
   "cell_type": "code",
   "execution_count": 6,
   "metadata": {},
   "outputs": [
    {
     "data": {
      "text/plain": [
       "array(['BKOPS CAT', 'BKOPS ACQ', 'BKOPS CPRC', 'BKOPS LOG', 'BKOPS RECAP',\n",
       "       'BKOPS SEL', 'IT ILS', 'IT Branch Library Support', nan,\n",
       "       'BKOPS ITIL', 'BKOPS LOG - MyLibNYC'], dtype=object)"
      ]
     },
     "execution_count": 6,
     "metadata": {},
     "output_type": "execute_result"
    }
   ],
   "source": [
    "df['assignment_group'].unique()"
   ]
  },
  {
   "cell_type": "code",
   "execution_count": 7,
   "metadata": {},
   "outputs": [],
   "source": [
    "cat_change_df = df[(df['category'] == 'Cataloging') & ((df['assignment_group'] != 'BKOPS CAT') & (df['assignment_group'].notnull()))]"
   ]
  },
  {
   "cell_type": "code",
   "execution_count": 8,
   "metadata": {},
   "outputs": [
    {
     "data": {
      "text/plain": [
       "587"
      ]
     },
     "execution_count": 8,
     "metadata": {},
     "output_type": "execute_result"
    }
   ],
   "source": [
    "cat_change_df.shape[0]"
   ]
  },
  {
   "cell_type": "code",
   "execution_count": 9,
   "metadata": {},
   "outputs": [],
   "source": [
    "cat_change_df_active = cat_change_df[(cat_change_df['state'] != 'Closed') & (cat_change_df['state'] != 'Resolved')]"
   ]
  },
  {
   "cell_type": "code",
   "execution_count": 10,
   "metadata": {},
   "outputs": [
    {
     "name": "stdout",
     "output_type": "stream",
     "text": [
      "# of tickets: 34\n"
     ]
    }
   ],
   "source": [
    "print(f'# of tickets: {cat_change_df_active.shape[0]}')"
   ]
  },
  {
   "cell_type": "markdown",
   "metadata": {},
   "source": [
    "## Awaiting User & Vendor tickets"
   ]
  },
  {
   "cell_type": "code",
   "execution_count": 11,
   "metadata": {},
   "outputs": [],
   "source": [
    "awaiting_df = cadf[((cadf['state'] == 'Awaiting Vendor') | (cadf['state'] == 'Awaiting User Info')) & (cadf['created'] < '2020-01-01')]"
   ]
  },
  {
   "cell_type": "code",
   "execution_count": 12,
   "metadata": {},
   "outputs": [
    {
     "data": {
      "text/plain": [
       "array(['Awaiting User Info', 'Awaiting Vendor'], dtype=object)"
      ]
     },
     "execution_count": 12,
     "metadata": {},
     "output_type": "execute_result"
    }
   ],
   "source": [
    "awaiting_df['state'].unique()"
   ]
  },
  {
   "cell_type": "code",
   "execution_count": 13,
   "metadata": {},
   "outputs": [
    {
     "name": "stdout",
     "output_type": "stream",
     "text": [
      "# of tickets: 748\n"
     ]
    }
   ],
   "source": [
    "print(f'# of tickets: {awaiting_df.shape[0]}')"
   ]
  },
  {
   "cell_type": "markdown",
   "metadata": {},
   "source": [
    "### NEW tickets backlog (older than mid February 2020)"
   ]
  },
  {
   "cell_type": "code",
   "execution_count": 14,
   "metadata": {},
   "outputs": [],
   "source": [
    "new_backlog_df = cadf[(cadf['state'] == 'New') & (cadf['assigned_to'].isnull())]"
   ]
  },
  {
   "cell_type": "code",
   "execution_count": 15,
   "metadata": {},
   "outputs": [
    {
     "data": {
      "text/plain": [
       "384"
      ]
     },
     "execution_count": 15,
     "metadata": {},
     "output_type": "execute_result"
    }
   ],
   "source": [
    "new_backlog_df.shape[0]"
   ]
  },
  {
   "cell_type": "code",
   "execution_count": 16,
   "metadata": {},
   "outputs": [
    {
     "name": "stdout",
     "output_type": "stream",
     "text": [
      "BPL Circulating # of tickets: 193\n",
      "NYPL Circulating # of tickets: 147\n",
      "NYPL Research # of tickets: 44\n"
     ]
    }
   ],
   "source": [
    "for lib, ldf in new_backlog_df.groupby('system'):\n",
    "    print(lib, f'# of tickets: {ldf.shape[0]}')"
   ]
  },
  {
   "cell_type": "markdown",
   "metadata": {},
   "source": [
    "## Active CAT tickets"
   ]
  },
  {
   "cell_type": "code",
   "execution_count": 17,
   "metadata": {},
   "outputs": [],
   "source": [
    "years = [2013, 2014, 2015, 2016, 2017, 2018, 2019, 2020]\n",
    "\n",
    "caadf = cadf[cadf['state'] == 'Active']\n",
    "\n",
    "for lib, ldf in caadf.groupby('system'):\n",
    "    staff_df = pd.DataFrame(columns=['staff', 'year', 'tickets'])\n",
    "    for staff, sdf in ldf.groupby('assigned_to'):\n",
    "        d = dict()\n",
    "        for y, ydf in sdf.groupby(sdf['created'].map(lambda x: x.year)):\n",
    "            d[y]={'staff': staff, 'year': y, 'tickets': ydf.shape[0]}\n",
    "        for y in years:\n",
    "            if y in d.keys():\n",
    "                 staff_df = staff_df.append(d[y], ignore_index=True)\n",
    "            else:\n",
    "                staff_df = staff_df.append({'staff': staff, 'year': y, 'tickets': 0}, ignore_index=True)\n",
    "                \n",
    "    staff_df.to_csv(f'../data-display/{lib}-active-tickets-by-staff.csv', index=False)\n",
    "    "
   ]
  },
  {
   "cell_type": "markdown",
   "metadata": {},
   "source": [
    "#### active by library per year"
   ]
  },
  {
   "cell_type": "code",
   "execution_count": 18,
   "metadata": {},
   "outputs": [],
   "source": [
    "lib_out_df = pd.DataFrame(columns=['library', 'year', 'tickets'])\n",
    "for lib, ldf in caadf.groupby('system'):\n",
    "    d = dict()\n",
    "    for y, ydf in ldf.groupby(ldf['created'].map(lambda x: x.year)):\n",
    "        d[y]={'library': lib, 'year': y, 'tickets': ydf.shape[0]}\n",
    "    for y in years:\n",
    "        if y in d.keys():\n",
    "             lib_out_df = lib_out_df.append(d[y], ignore_index=True)\n",
    "        else:\n",
    "            lib_out_df = lib_out_df.append({'library': lib, 'year': y, 'tickets': 0}, ignore_index=True)\n",
    "lib_out_df.to_csv('../data-display/cat-active-tickets-per-lib-timeline.csv', index=False)"
   ]
  },
  {
   "cell_type": "markdown",
   "metadata": {},
   "source": [
    "#### Active categories"
   ]
  },
  {
   "cell_type": "code",
   "execution_count": 23,
   "metadata": {},
   "outputs": [
    {
     "name": "stdout",
     "output_type": "stream",
     "text": [
      "Barcode sticker request (Research centers only) 2\n",
      "Barcodes for circulating materials 5\n",
      "Call number error 362\n",
      "Call number missing 25\n",
      "Cataloging Request for a Free Internet Resource 18\n",
      "Cataloging error 202\n",
      "Collection HQ 10\n",
      "Damaged material / missing pieces 3\n",
      "Duplicate records 1\n",
      "Electronic resource 128\n",
      "Holds fulfillment--NYPL only 7\n",
      "Item attached to wrong bib record 56\n",
      "Item not linked 83\n",
      "Item record problem 41\n",
      "Leased items 2\n",
      "Location code error 11\n",
      "OCLC Holdings 6\n",
      "Online Catalog 47\n",
      "Other 215\n",
      "Spine labels 69\n",
      "Status of request 1\n",
      "Volume record needed 4\n"
     ]
    },
    {
     "data": {
      "text/html": [
       "<div>\n",
       "<style scoped>\n",
       "    .dataframe tbody tr th:only-of-type {\n",
       "        vertical-align: middle;\n",
       "    }\n",
       "\n",
       "    .dataframe tbody tr th {\n",
       "        vertical-align: top;\n",
       "    }\n",
       "\n",
       "    .dataframe thead th {\n",
       "        text-align: right;\n",
       "    }\n",
       "</style>\n",
       "<table border=\"1\" class=\"dataframe\">\n",
       "  <thead>\n",
       "    <tr style=\"text-align: right;\">\n",
       "      <th></th>\n",
       "      <th>subcategory</th>\n",
       "      <th>tickets</th>\n",
       "    </tr>\n",
       "  </thead>\n",
       "  <tbody>\n",
       "    <tr>\n",
       "      <th>0</th>\n",
       "      <td>Barcode sticker request (Research centers only)</td>\n",
       "      <td>2</td>\n",
       "    </tr>\n",
       "    <tr>\n",
       "      <th>1</th>\n",
       "      <td>Barcodes for circulating materials</td>\n",
       "      <td>5</td>\n",
       "    </tr>\n",
       "    <tr>\n",
       "      <th>2</th>\n",
       "      <td>Call number error</td>\n",
       "      <td>362</td>\n",
       "    </tr>\n",
       "    <tr>\n",
       "      <th>3</th>\n",
       "      <td>Call number missing</td>\n",
       "      <td>25</td>\n",
       "    </tr>\n",
       "    <tr>\n",
       "      <th>4</th>\n",
       "      <td>Cataloging Request for a Free Internet Resource</td>\n",
       "      <td>18</td>\n",
       "    </tr>\n",
       "  </tbody>\n",
       "</table>\n",
       "</div>"
      ],
      "text/plain": [
       "                                       subcategory tickets\n",
       "0  Barcode sticker request (Research centers only)       2\n",
       "1               Barcodes for circulating materials       5\n",
       "2                                Call number error     362\n",
       "3                              Call number missing      25\n",
       "4  Cataloging Request for a Free Internet Resource      18"
      ]
     },
     "execution_count": 23,
     "metadata": {},
     "output_type": "execute_result"
    }
   ],
   "source": [
    "cat_out_df = pd.DataFrame(columns=['subcategory', 'tickets'])\n",
    "for cat, cdf in caadf.groupby('subcategory'):\n",
    "    print(cat, cdf.shape[0])\n",
    "    cat_out_df = cat_out_df.append(\n",
    "        dict(\n",
    "            subcategory=cat,\n",
    "            tickets=cdf.shape[0]\n",
    "        ),\n",
    "        ignore_index=True\n",
    "    )\n",
    "cat_out_df.head()"
   ]
  },
  {
   "cell_type": "code",
   "execution_count": 25,
   "metadata": {},
   "outputs": [],
   "source": [
    "cat_out_df.to_csv('../data-display/cat-active-by-category.csv', index=False)"
   ]
  },
  {
   "cell_type": "code",
   "execution_count": 27,
   "metadata": {},
   "outputs": [],
   "source": [
    "\n",
    "for lib, ldf in caadf.groupby('system'):\n",
    "    lib_out_df = pd.DataFrame(columns=['category', 'tickets'])\n",
    "    for cat, cdf in ldf.groupby('subcategory'):\n",
    "        lib_out_df = lib_out_df.append(\n",
    "            dict(\n",
    "                category=cat,\n",
    "                tickets=cdf.shape[0]\n",
    "            ),\n",
    "            ignore_index=True)\n",
    "        \n",
    "    lib_out_df.to_csv(f'../data-display/{lib}-active-tickets-by-category.csv', index=False)"
   ]
  },
  {
   "cell_type": "code",
   "execution_count": null,
   "metadata": {},
   "outputs": [],
   "source": []
  }
 ],
 "metadata": {
  "kernelspec": {
   "display_name": "Python 3",
   "language": "python",
   "name": "python3"
  },
  "language_info": {
   "codemirror_mode": {
    "name": "ipython",
    "version": 3
   },
   "file_extension": ".py",
   "mimetype": "text/x-python",
   "name": "python",
   "nbconvert_exporter": "python",
   "pygments_lexer": "ipython3",
   "version": "3.7.2"
  }
 },
 "nbformat": 4,
 "nbformat_minor": 4
}
