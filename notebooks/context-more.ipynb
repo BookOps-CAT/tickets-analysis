{
 "cells": [
  {
   "cell_type": "markdown",
   "metadata": {},
   "source": [
    "## General dataframe"
   ]
  },
  {
   "cell_type": "code",
   "execution_count": 1,
   "metadata": {},
   "outputs": [],
   "source": [
    "import pandas as pd\n",
    "fh = '../files/tickets-gen-all.csv'\n",
    "df = pd.read_csv(fh, index_col=0, parse_dates=['created', 'opened_at', 'updated_on', 'resolved'])"
   ]
  },
  {
   "cell_type": "code",
   "execution_count": 15,
   "metadata": {},
   "outputs": [
    {
     "data": {
      "text/plain": [
       "Index(['created', 'caller', 'opened_at', 'opened_by', 'priority', 'state',\n",
       "       'category', 'subcategory', 'assignment_group', 'bpl_location',\n",
       "       'nyp_locaiton', 'resolved', 'assigned_to', 'system', 'closed_at',\n",
       "       'closed_by', 'mat_source', 'reassignment_count', 'reopen_count',\n",
       "       'resolved_by', 'updated_on', 'updated_by'],\n",
       "      dtype='object')"
      ]
     },
     "execution_count": 15,
     "metadata": {},
     "output_type": "execute_result"
    }
   ],
   "source": [
    "df.columns"
   ]
  },
  {
   "cell_type": "code",
   "execution_count": 3,
   "metadata": {},
   "outputs": [
    {
     "data": {
      "text/plain": [
       "array(['BKOPS CAT', 'BKOPS ACQ', 'BKOPS CPRC', 'BKOPS LOG', 'BKOPS RECAP',\n",
       "       'BKOPS SEL', 'IT ILS', 'IT Branch Library Support', nan,\n",
       "       'BKOPS ITIL', 'BKOPS LOG - MyLibNYC'], dtype=object)"
      ]
     },
     "execution_count": 3,
     "metadata": {},
     "output_type": "execute_result"
    }
   ],
   "source": [
    "df['assignment_group'].unique()"
   ]
  },
  {
   "cell_type": "code",
   "execution_count": 4,
   "metadata": {},
   "outputs": [
    {
     "data": {
      "text/plain": [
       "array(['Cataloging', 'Acquisitions', 'Selection', 'Logistics',\n",
       "       'Offsite - ReCAP', 'Collections Processing', nan], dtype=object)"
      ]
     },
     "execution_count": 4,
     "metadata": {},
     "output_type": "execute_result"
    }
   ],
   "source": [
    "df['category'].unique()"
   ]
  },
  {
   "cell_type": "code",
   "execution_count": 5,
   "metadata": {},
   "outputs": [
    {
     "data": {
      "text/plain": [
       "array(['Closed', 'Active', 'Awaiting User Info', 'Awaiting Vendor', 'New',\n",
       "       'Resolved'], dtype=object)"
      ]
     },
     "execution_count": 5,
     "metadata": {},
     "output_type": "execute_result"
    }
   ],
   "source": [
    "df['state'].unique()"
   ]
  },
  {
   "cell_type": "code",
   "execution_count": 6,
   "metadata": {},
   "outputs": [
    {
     "data": {
      "text/plain": [
       "array(['NYPL Circulating', 'NYPL Research', 'BPL Circulating', nan],\n",
       "      dtype=object)"
      ]
     },
     "execution_count": 6,
     "metadata": {},
     "output_type": "execute_result"
    }
   ],
   "source": [
    "df['system'].unique()"
   ]
  },
  {
   "cell_type": "markdown",
   "metadata": {},
   "source": [
    "## Tickets by state in each dept"
   ]
  },
  {
   "cell_type": "code",
   "execution_count": 13,
   "metadata": {},
   "outputs": [],
   "source": [
    "frames = []\n",
    "for library, ldf in df.groupby('system'):\n",
    "    for dept, dldf in ldf.groupby('category'):\n",
    "        for state, sdldf in dldf.groupby('state'):\n",
    "            frames.append(\n",
    "                {'library': library, 'dept': dept, 'state': state, 'tickets': sdldf.shape[0]}\n",
    "            )\n",
    "df_by_state = pd.DataFrame(frames)\n",
    "df_by_state.to_csv('../data-display/states-by-dept.csv', index=False)"
   ]
  },
  {
   "cell_type": "markdown",
   "metadata": {},
   "source": [
    "## Active users"
   ]
  },
  {
   "cell_type": "markdown",
   "metadata": {},
   "source": [
    "### user by dept lists"
   ]
  },
  {
   "cell_type": "code",
   "execution_count": 28,
   "metadata": {},
   "outputs": [],
   "source": [
    "cat2group = {\n",
    "    'Cataloging': ['BKOPS CAT'],\n",
    "    'Acquisitions': ['BKOPS ACQ'],\n",
    "    'Selection': ['BKOPS SEL'],\n",
    "    'Logistics': ['BKOPS LOG', 'BKOPS LOG - MyLibNYC'],\n",
    "    'Offsite - ReCAP': ['BKOPS RECAP'],\n",
    "    'Collections Processing': ['BKOPS CPRC']\n",
    "}\n",
    "group2cat = {\n",
    "    'BKOPS CAT': 'Cataloging',\n",
    "    'BKOPS ACQ': 'Acquisitions',\n",
    "    'BKOPS SEL': 'Selection',\n",
    "    'BKOPS LOG': 'Logistics',\n",
    "    'BKOPS LOG - MyLibNYC': 'Logistics',\n",
    "    'BKOPS RECAP': 'Offsite - ReCAP',\n",
    "    'BKOPS CPRC': 'Collections Processing',\n",
    "}"
   ]
  },
  {
   "cell_type": "code",
   "execution_count": 34,
   "metadata": {},
   "outputs": [
    {
     "data": {
      "text/html": [
       "<div>\n",
       "<style scoped>\n",
       "    .dataframe tbody tr th:only-of-type {\n",
       "        vertical-align: middle;\n",
       "    }\n",
       "\n",
       "    .dataframe tbody tr th {\n",
       "        vertical-align: top;\n",
       "    }\n",
       "\n",
       "    .dataframe thead th {\n",
       "        text-align: right;\n",
       "    }\n",
       "</style>\n",
       "<table border=\"1\" class=\"dataframe\">\n",
       "  <thead>\n",
       "    <tr style=\"text-align: right;\">\n",
       "      <th></th>\n",
       "      <th>dept_from</th>\n",
       "      <th>dept_to</th>\n",
       "      <th>tickets</th>\n",
       "    </tr>\n",
       "  </thead>\n",
       "  <tbody>\n",
       "    <tr>\n",
       "      <th>0</th>\n",
       "      <td>Cataloging</td>\n",
       "      <td>Acquisitions</td>\n",
       "      <td>158</td>\n",
       "    </tr>\n",
       "    <tr>\n",
       "      <th>1</th>\n",
       "      <td>Cataloging</td>\n",
       "      <td>Collections Processing</td>\n",
       "      <td>319</td>\n",
       "    </tr>\n",
       "    <tr>\n",
       "      <th>2</th>\n",
       "      <td>Cataloging</td>\n",
       "      <td>Logistics</td>\n",
       "      <td>1</td>\n",
       "    </tr>\n",
       "    <tr>\n",
       "      <th>3</th>\n",
       "      <td>Cataloging</td>\n",
       "      <td>Offsite - ReCAP</td>\n",
       "      <td>17</td>\n",
       "    </tr>\n",
       "    <tr>\n",
       "      <th>4</th>\n",
       "      <td>Cataloging</td>\n",
       "      <td>Selection</td>\n",
       "      <td>83</td>\n",
       "    </tr>\n",
       "  </tbody>\n",
       "</table>\n",
       "</div>"
      ],
      "text/plain": [
       "    dept_from                 dept_to  tickets\n",
       "0  Cataloging            Acquisitions      158\n",
       "1  Cataloging  Collections Processing      319\n",
       "2  Cataloging               Logistics        1\n",
       "3  Cataloging         Offsite - ReCAP       17\n",
       "4  Cataloging               Selection       83"
      ]
     },
     "execution_count": 34,
     "metadata": {},
     "output_type": "execute_result"
    }
   ],
   "source": [
    "frames = []\n",
    "for dept, values in cat2group.items():\n",
    "#     cdf = df[(df['category'] == dept) & (df['assignment_group'].isin(values))]\n",
    "#     print(f'correct: {dept}={cdf.shape[0]}')\n",
    "    idf = df[(df['category'] == dept) & (~df['assignment_group'].isin(values))]\n",
    "    for dst, didf in idf.groupby('assignment_group'):\n",
    "        if dst in group2cat.keys():\n",
    "            frames.append({'dept_from': dept, 'dept_to': group2cat[dst], 'tickets': didf.shape[0] })\n",
    "misassigned_connections = pd.DataFrame(frames)\n",
    "misassigned_connections.head()"
   ]
  },
  {
   "cell_type": "code",
   "execution_count": 35,
   "metadata": {},
   "outputs": [],
   "source": [
    "misassigned_connections.to_csv('../data-display/misassigned-connections.csv', index=False)"
   ]
  },
  {
   "cell_type": "code",
   "execution_count": null,
   "metadata": {},
   "outputs": [],
   "source": []
  }
 ],
 "metadata": {
  "kernelspec": {
   "display_name": "Python 3",
   "language": "python",
   "name": "python3"
  },
  "language_info": {
   "codemirror_mode": {
    "name": "ipython",
    "version": 3
   },
   "file_extension": ".py",
   "mimetype": "text/x-python",
   "name": "python",
   "nbconvert_exporter": "python",
   "pygments_lexer": "ipython3",
   "version": "3.7.2"
  }
 },
 "nbformat": 4,
 "nbformat_minor": 4
}
