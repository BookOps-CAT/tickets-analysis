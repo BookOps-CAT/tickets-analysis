{
 "cells": [
  {
   "cell_type": "code",
   "execution_count": 1,
   "metadata": {},
   "outputs": [],
   "source": [
    "import pandas as pd"
   ]
  },
  {
   "cell_type": "code",
   "execution_count": 2,
   "metadata": {},
   "outputs": [],
   "source": [
    "fh = '../files/tickets-gen-all.csv'"
   ]
  },
  {
   "cell_type": "code",
   "execution_count": 3,
   "metadata": {},
   "outputs": [],
   "source": [
    "df = pd.read_csv(fh, index_col=0, parse_dates=['created', 'opened_at', 'updated_on'])"
   ]
  },
  {
   "cell_type": "code",
   "execution_count": 4,
   "metadata": {},
   "outputs": [
    {
     "data": {
      "text/plain": [
       "(75724, 22)"
      ]
     },
     "execution_count": 4,
     "metadata": {},
     "output_type": "execute_result"
    }
   ],
   "source": [
    "df.shape"
   ]
  },
  {
   "cell_type": "code",
   "execution_count": 5,
   "metadata": {},
   "outputs": [
    {
     "data": {
      "text/plain": [
       "Index(['created', 'caller', 'opened_at', 'opened_by', 'priority', 'state',\n",
       "       'category', 'subcategory', 'assignment_group', 'bpl_location',\n",
       "       'nyp_locaiton', 'resolved', 'assigned_to', 'system', 'closed_at',\n",
       "       'closed_by', 'mat_source', 'reassignment_count', 'reopen_count',\n",
       "       'resolved_by', 'updated_on', 'updated_by'],\n",
       "      dtype='object')"
      ]
     },
     "execution_count": 5,
     "metadata": {},
     "output_type": "execute_result"
    }
   ],
   "source": [
    "df.columns"
   ]
  },
  {
   "cell_type": "code",
   "execution_count": 6,
   "metadata": {},
   "outputs": [
    {
     "data": {
      "text/plain": [
       "count          75707\n",
       "unique          1931\n",
       "top       Diane Chin\n",
       "freq             971\n",
       "Name: caller, dtype: object"
      ]
     },
     "execution_count": 6,
     "metadata": {},
     "output_type": "execute_result"
    }
   ],
   "source": [
    "df['caller'].describe()"
   ]
  },
  {
   "cell_type": "code",
   "execution_count": 7,
   "metadata": {},
   "outputs": [
    {
     "data": {
      "text/plain": [
       "created               datetime64[ns]\n",
       "caller                        object\n",
       "opened_at             datetime64[ns]\n",
       "opened_by                     object\n",
       "priority                      object\n",
       "state                         object\n",
       "category                      object\n",
       "subcategory                   object\n",
       "assignment_group              object\n",
       "bpl_location                  object\n",
       "nyp_locaiton                  object\n",
       "resolved                      object\n",
       "assigned_to                   object\n",
       "system                        object\n",
       "closed_at                     object\n",
       "closed_by                     object\n",
       "mat_source                    object\n",
       "reassignment_count             int64\n",
       "reopen_count                   int64\n",
       "resolved_by                   object\n",
       "updated_on            datetime64[ns]\n",
       "updated_by                    object\n",
       "dtype: object"
      ]
     },
     "execution_count": 7,
     "metadata": {},
     "output_type": "execute_result"
    }
   ],
   "source": [
    "df.dtypes"
   ]
  },
  {
   "cell_type": "code",
   "execution_count": 8,
   "metadata": {},
   "outputs": [
    {
     "data": {
      "text/plain": [
       "array(['3 - Moderate', '1 - Critical', '5 - Planning', '4 - Low', nan,\n",
       "       '2 - High'], dtype=object)"
      ]
     },
     "execution_count": 8,
     "metadata": {},
     "output_type": "execute_result"
    }
   ],
   "source": [
    "df['priority'].unique()"
   ]
  },
  {
   "cell_type": "code",
   "execution_count": 9,
   "metadata": {},
   "outputs": [
    {
     "data": {
      "text/plain": [
       "array(['Closed', 'Active', 'Awaiting User Info', 'Awaiting Vendor', 'New',\n",
       "       'Resolved'], dtype=object)"
      ]
     },
     "execution_count": 9,
     "metadata": {},
     "output_type": "execute_result"
    }
   ],
   "source": [
    "df['state'].unique()"
   ]
  },
  {
   "cell_type": "code",
   "execution_count": 10,
   "metadata": {},
   "outputs": [
    {
     "data": {
      "text/plain": [
       "array(['Cataloging', 'Acquisitions', 'Selection', 'Logistics',\n",
       "       'Offsite - ReCAP', 'Collections Processing', nan], dtype=object)"
      ]
     },
     "execution_count": 10,
     "metadata": {},
     "output_type": "execute_result"
    }
   ],
   "source": [
    "df['category'].unique()"
   ]
  },
  {
   "cell_type": "code",
   "execution_count": 11,
   "metadata": {},
   "outputs": [
    {
     "data": {
      "text/plain": [
       "array(['Item attached to wrong bib record', 'Item not linked', 'Other',\n",
       "       'Call number error', 'Cataloging error', 'Packing list error',\n",
       "       'Materials not processed with labels, etc.',\n",
       "       'Holds fulfillment--NYPL only', 'Item record problem',\n",
       "       'Volume record needed', 'Duplicate records',\n",
       "       'Supplies: Circ bins, discard bins, bin ties, tubs, etc.',\n",
       "       'Call number missing', 'Location code error',\n",
       "       'Shipment delivery error', 'Status of request',\n",
       "       'Pickup or delivery request', 'Spine labels', 'Damaged material',\n",
       "       'Invoice payment', 'Materials received without paperwork',\n",
       "       'Author and submission inquiries',\n",
       "       'Barcodes for circulating materials', 'Collection HQ',\n",
       "       'Online Catalog', 'Gift books or Donations--NYPL only',\n",
       "       'Barcoding', 'OCLC Holdings', 'Delivery issue or error',\n",
       "       'New Item/Title Request', 'Electronic resource',\n",
       "       'Damaged material / missing pieces', 'BiblioCommons',\n",
       "       'Leased items', 'Book jacket',\n",
       "       'Barcode sticker request (Research centers only)',\n",
       "       'Book bound backwards', 'Databases and eBooks',\n",
       "       'Order request for Research Library', 'Leased book returns',\n",
       "       'UPS delivery inquiry',\n",
       "       'Cataloging Request for a Free Internet Resource',\n",
       "       'MyLibraryNYC Offsite Request (Logistics Staff Only)',\n",
       "       'Titlesource--NYPL only', 'Rejected request inquiry',\n",
       "       'Research call no. label request (NYPL only)',\n",
       "       'Library Cards (NYPL)'], dtype=object)"
      ]
     },
     "execution_count": 11,
     "metadata": {},
     "output_type": "execute_result"
    }
   ],
   "source": [
    "df['subcategory'].unique()"
   ]
  },
  {
   "cell_type": "code",
   "execution_count": 12,
   "metadata": {},
   "outputs": [
    {
     "data": {
      "text/plain": [
       "count    75724.000000\n",
       "mean         0.110916\n",
       "std          0.364769\n",
       "min          0.000000\n",
       "25%          0.000000\n",
       "50%          0.000000\n",
       "75%          0.000000\n",
       "max          8.000000\n",
       "Name: reassignment_count, dtype: float64"
      ]
     },
     "execution_count": 12,
     "metadata": {},
     "output_type": "execute_result"
    }
   ],
   "source": [
    "df['reassignment_count'].describe()"
   ]
  },
  {
   "cell_type": "code",
   "execution_count": 13,
   "metadata": {},
   "outputs": [],
   "source": [
    "adf_out = pd.DataFrame(columns=['dept', 'year', 'tickets'])"
   ]
  },
  {
   "cell_type": "code",
   "execution_count": 14,
   "metadata": {},
   "outputs": [],
   "source": [
    "years = [2013, 2014, 2015, 2016, 2017, 2018, 2019, 2020]\n",
    "for agroup, adf in df.groupby('category'):\n",
    "    d = dict()\n",
    "    for y, ydf in adf.groupby(adf['created'].map(lambda x: x.year)):\n",
    "        d[y]={'dept': agroup, 'year': y, 'tickets': ydf.shape[0]}\n",
    "    for y in years:\n",
    "        if y in d.keys():\n",
    "            adf_out = adf_out.append(d[y], ignore_index=True)\n",
    "        else:\n",
    "            adf_out = adf_out.append({'dept': agroup, 'year': y, 'tickets': 0}, ignore_index=True)         "
   ]
  },
  {
   "cell_type": "code",
   "execution_count": 15,
   "metadata": {},
   "outputs": [
    {
     "data": {
      "text/html": [
       "<div>\n",
       "<style scoped>\n",
       "    .dataframe tbody tr th:only-of-type {\n",
       "        vertical-align: middle;\n",
       "    }\n",
       "\n",
       "    .dataframe tbody tr th {\n",
       "        vertical-align: top;\n",
       "    }\n",
       "\n",
       "    .dataframe thead th {\n",
       "        text-align: right;\n",
       "    }\n",
       "</style>\n",
       "<table border=\"1\" class=\"dataframe\">\n",
       "  <thead>\n",
       "    <tr style=\"text-align: right;\">\n",
       "      <th></th>\n",
       "      <th>dept</th>\n",
       "      <th>year</th>\n",
       "      <th>tickets</th>\n",
       "    </tr>\n",
       "  </thead>\n",
       "  <tbody>\n",
       "    <tr>\n",
       "      <th>0</th>\n",
       "      <td>Acquisitions</td>\n",
       "      <td>2013</td>\n",
       "      <td>110</td>\n",
       "    </tr>\n",
       "    <tr>\n",
       "      <th>1</th>\n",
       "      <td>Acquisitions</td>\n",
       "      <td>2014</td>\n",
       "      <td>139</td>\n",
       "    </tr>\n",
       "    <tr>\n",
       "      <th>2</th>\n",
       "      <td>Acquisitions</td>\n",
       "      <td>2015</td>\n",
       "      <td>185</td>\n",
       "    </tr>\n",
       "    <tr>\n",
       "      <th>3</th>\n",
       "      <td>Acquisitions</td>\n",
       "      <td>2016</td>\n",
       "      <td>290</td>\n",
       "    </tr>\n",
       "    <tr>\n",
       "      <th>4</th>\n",
       "      <td>Acquisitions</td>\n",
       "      <td>2017</td>\n",
       "      <td>325</td>\n",
       "    </tr>\n",
       "  </tbody>\n",
       "</table>\n",
       "</div>"
      ],
      "text/plain": [
       "           dept  year tickets\n",
       "0  Acquisitions  2013     110\n",
       "1  Acquisitions  2014     139\n",
       "2  Acquisitions  2015     185\n",
       "3  Acquisitions  2016     290\n",
       "4  Acquisitions  2017     325"
      ]
     },
     "execution_count": 15,
     "metadata": {},
     "output_type": "execute_result"
    }
   ],
   "source": [
    "adf_out.head()"
   ]
  },
  {
   "cell_type": "code",
   "execution_count": 16,
   "metadata": {},
   "outputs": [],
   "source": [
    "adf_out.to_csv('../data-display/tickets-per-dept-yearly.csv', index=False)"
   ]
  },
  {
   "cell_type": "code",
   "execution_count": 17,
   "metadata": {},
   "outputs": [],
   "source": [
    "# open, awaiting tickets per department\n",
    "odf = df[(df['state']!='Closed')&(df['state']!='Resolved')]"
   ]
  },
  {
   "cell_type": "code",
   "execution_count": 18,
   "metadata": {},
   "outputs": [
    {
     "data": {
      "text/plain": [
       "(3409, 22)"
      ]
     },
     "execution_count": 18,
     "metadata": {},
     "output_type": "execute_result"
    }
   ],
   "source": [
    "odf.shape"
   ]
  },
  {
   "cell_type": "code",
   "execution_count": 19,
   "metadata": {},
   "outputs": [],
   "source": [
    "odf_out = pd.DataFrame(columns=['dept', 'year', 'tickets'])\n",
    "years = [2013, 2014, 2015, 2016, 2017, 2018, 2019, 2020]\n",
    "for agroup, adf in odf.groupby('category'):\n",
    "    d = dict()\n",
    "    for y, ydf in adf.groupby(adf['created'].map(lambda x: x.year)):\n",
    "        d[y]={'dept': agroup, 'year': y, 'tickets': ydf.shape[0]}\n",
    "    for y in years:\n",
    "        if y in d.keys():\n",
    "            odf_out = odf_out.append(d[y], ignore_index=True)\n",
    "        else:\n",
    "            odf_out = odf_out.append({'dept': agroup, 'year': y, 'tickets': 0}, ignore_index=True)"
   ]
  },
  {
   "cell_type": "code",
   "execution_count": 20,
   "metadata": {},
   "outputs": [
    {
     "data": {
      "text/html": [
       "<div>\n",
       "<style scoped>\n",
       "    .dataframe tbody tr th:only-of-type {\n",
       "        vertical-align: middle;\n",
       "    }\n",
       "\n",
       "    .dataframe tbody tr th {\n",
       "        vertical-align: top;\n",
       "    }\n",
       "\n",
       "    .dataframe thead th {\n",
       "        text-align: right;\n",
       "    }\n",
       "</style>\n",
       "<table border=\"1\" class=\"dataframe\">\n",
       "  <thead>\n",
       "    <tr style=\"text-align: right;\">\n",
       "      <th></th>\n",
       "      <th>dept</th>\n",
       "      <th>year</th>\n",
       "      <th>tickets</th>\n",
       "    </tr>\n",
       "  </thead>\n",
       "  <tbody>\n",
       "    <tr>\n",
       "      <th>0</th>\n",
       "      <td>Acquisitions</td>\n",
       "      <td>2013</td>\n",
       "      <td>13</td>\n",
       "    </tr>\n",
       "    <tr>\n",
       "      <th>1</th>\n",
       "      <td>Acquisitions</td>\n",
       "      <td>2014</td>\n",
       "      <td>20</td>\n",
       "    </tr>\n",
       "    <tr>\n",
       "      <th>2</th>\n",
       "      <td>Acquisitions</td>\n",
       "      <td>2015</td>\n",
       "      <td>32</td>\n",
       "    </tr>\n",
       "    <tr>\n",
       "      <th>3</th>\n",
       "      <td>Acquisitions</td>\n",
       "      <td>2016</td>\n",
       "      <td>53</td>\n",
       "    </tr>\n",
       "    <tr>\n",
       "      <th>4</th>\n",
       "      <td>Acquisitions</td>\n",
       "      <td>2017</td>\n",
       "      <td>65</td>\n",
       "    </tr>\n",
       "  </tbody>\n",
       "</table>\n",
       "</div>"
      ],
      "text/plain": [
       "           dept  year tickets\n",
       "0  Acquisitions  2013      13\n",
       "1  Acquisitions  2014      20\n",
       "2  Acquisitions  2015      32\n",
       "3  Acquisitions  2016      53\n",
       "4  Acquisitions  2017      65"
      ]
     },
     "execution_count": 20,
     "metadata": {},
     "output_type": "execute_result"
    }
   ],
   "source": [
    "odf_out.head()"
   ]
  },
  {
   "cell_type": "code",
   "execution_count": 21,
   "metadata": {},
   "outputs": [],
   "source": [
    "odf_out.to_csv('../data-display/unresolved-per-dept-yearly.csv', index=False)"
   ]
  },
  {
   "cell_type": "code",
   "execution_count": 78,
   "metadata": {},
   "outputs": [],
   "source": [
    "# filter out tickets that did not end up in cataloging\n",
    "cdf = df[df['assignment_group']=='BKOPS CAT']"
   ]
  },
  {
   "cell_type": "code",
   "execution_count": 79,
   "metadata": {},
   "outputs": [
    {
     "data": {
      "text/plain": [
       "(14470, 22)"
      ]
     },
     "execution_count": 79,
     "metadata": {},
     "output_type": "execute_result"
    }
   ],
   "source": [
    "cdf.shape"
   ]
  },
  {
   "cell_type": "code",
   "execution_count": 80,
   "metadata": {},
   "outputs": [
    {
     "data": {
      "text/plain": [
       "array(['BKOPS CAT'], dtype=object)"
      ]
     },
     "execution_count": 80,
     "metadata": {},
     "output_type": "execute_result"
    }
   ],
   "source": [
    "cdf['assignment_group'].unique()"
   ]
  },
  {
   "cell_type": "code",
   "execution_count": 81,
   "metadata": {},
   "outputs": [],
   "source": [
    "cdf['category'].unique()\n",
    "states = ['Closed', 'Resolved', 'Awaiting User Info', 'Awaiting Vendor', 'Active', 'New']"
   ]
  },
  {
   "cell_type": "code",
   "execution_count": 82,
   "metadata": {},
   "outputs": [],
   "source": [
    "sdf_out = pd.DataFrame(columns=['year', 'state', 'tickets', 'stack_order'])\n",
    "for state, sdf in cdf.groupby('state'):\n",
    "    d = dict()\n",
    "    for y, ydf in sdf.groupby(sdf['created'].map(lambda x: x.year)):\n",
    "        d[y] = {'year': y, 'state': state, 'tickets': ydf.shape[0], 'stack_order': states.index(state)}\n",
    "    for y in years:\n",
    "        if y in d.keys():\n",
    "            sdf_out = sdf_out.append(d[y], ignore_index=True)\n",
    "        else:\n",
    "            sdf_out = sdf_out.append({'year': y, 'state': state, 'tickets': 0, 'stack_order': states.index(state)}, ignore_index=True)"
   ]
  },
  {
   "cell_type": "code",
   "execution_count": 83,
   "metadata": {},
   "outputs": [
    {
     "data": {
      "text/plain": [
       "(48, 4)"
      ]
     },
     "execution_count": 83,
     "metadata": {},
     "output_type": "execute_result"
    }
   ],
   "source": [
    "sdf_out.shape"
   ]
  },
  {
   "cell_type": "code",
   "execution_count": 84,
   "metadata": {},
   "outputs": [],
   "source": [
    "sdf_out.to_csv('../data-display/cat-tickets-per-state-yearly.csv', index=False)"
   ]
  },
  {
   "cell_type": "code",
   "execution_count": 85,
   "metadata": {},
   "outputs": [],
   "source": [
    "# misassigned tickets in CAT\n",
    "vcdf = df[(df['category'] == 'Cataloging')&(df['assignment_group'] != 'BKOPS CAT')|(df['assignment_group']=='BKOPS CAT')]"
   ]
  },
  {
   "cell_type": "code",
   "execution_count": 86,
   "metadata": {},
   "outputs": [
    {
     "data": {
      "text/plain": [
       "15070"
      ]
     },
     "execution_count": 86,
     "metadata": {},
     "output_type": "execute_result"
    }
   ],
   "source": [
    "vcdf.shape[0]"
   ]
  },
  {
   "cell_type": "code",
   "execution_count": 87,
   "metadata": {},
   "outputs": [
    {
     "name": "stderr",
     "output_type": "stream",
     "text": [
      "c:\\users\\tomaszkalata\\envs\\servicenowanalysisenv\\lib\\site-packages\\ipykernel_launcher.py:1: SettingWithCopyWarning: \n",
      "A value is trying to be set on a copy of a slice from a DataFrame.\n",
      "Try using .loc[row_indexer,col_indexer] = value instead\n",
      "\n",
      "See the caveats in the documentation: https://pandas.pydata.org/pandas-docs/stable/user_guide/indexing.html#returning-a-view-versus-a-copy\n",
      "  \"\"\"Entry point for launching an IPython kernel.\n"
     ]
    }
   ],
   "source": [
    "vcdf['valid'] = vcdf.apply(lambda row: 'correct' if row.assignment_group == 'BKOPS CAT' else 'misassigned', axis=1)"
   ]
  },
  {
   "cell_type": "code",
   "execution_count": 88,
   "metadata": {},
   "outputs": [
    {
     "data": {
      "text/plain": [
       "correct        14470\n",
       "misassigned      600\n",
       "Name: valid, dtype: int64"
      ]
     },
     "execution_count": 88,
     "metadata": {},
     "output_type": "execute_result"
    }
   ],
   "source": [
    "vcdf['valid'].value_counts()"
   ]
  },
  {
   "cell_type": "code",
   "execution_count": 89,
   "metadata": {},
   "outputs": [],
   "source": [
    "vcdf_out = pd.DataFrame(columns=['year', 'valid', 'tickets'])"
   ]
  },
  {
   "cell_type": "code",
   "execution_count": 90,
   "metadata": {},
   "outputs": [],
   "source": [
    "for valid, vdf in vcdf.groupby('valid'):\n",
    "    d = dict()\n",
    "    for y, ydf in vdf.groupby(vdf['created'].map(lambda x: x.year)):\n",
    "        d[y] = {'year': y, 'valid': valid, 'tickets': ydf.shape[0]}\n",
    "    for y in years:\n",
    "        if y in d.keys():\n",
    "            vcdf_out = vcdf_out.append(d[y], ignore_index=True)\n",
    "        else:\n",
    "            vcdf_out = vcdf_out.append({'year': y, 'valid': valid, 'tickets': 0}, ignore_index=True)"
   ]
  },
  {
   "cell_type": "code",
   "execution_count": 91,
   "metadata": {},
   "outputs": [
    {
     "data": {
      "text/html": [
       "<div>\n",
       "<style scoped>\n",
       "    .dataframe tbody tr th:only-of-type {\n",
       "        vertical-align: middle;\n",
       "    }\n",
       "\n",
       "    .dataframe tbody tr th {\n",
       "        vertical-align: top;\n",
       "    }\n",
       "\n",
       "    .dataframe thead th {\n",
       "        text-align: right;\n",
       "    }\n",
       "</style>\n",
       "<table border=\"1\" class=\"dataframe\">\n",
       "  <thead>\n",
       "    <tr style=\"text-align: right;\">\n",
       "      <th></th>\n",
       "      <th>year</th>\n",
       "      <th>valid</th>\n",
       "      <th>tickets</th>\n",
       "    </tr>\n",
       "  </thead>\n",
       "  <tbody>\n",
       "    <tr>\n",
       "      <th>0</th>\n",
       "      <td>2013</td>\n",
       "      <td>correct</td>\n",
       "      <td>1201</td>\n",
       "    </tr>\n",
       "    <tr>\n",
       "      <th>1</th>\n",
       "      <td>2014</td>\n",
       "      <td>correct</td>\n",
       "      <td>2018</td>\n",
       "    </tr>\n",
       "    <tr>\n",
       "      <th>2</th>\n",
       "      <td>2015</td>\n",
       "      <td>correct</td>\n",
       "      <td>2678</td>\n",
       "    </tr>\n",
       "    <tr>\n",
       "      <th>3</th>\n",
       "      <td>2016</td>\n",
       "      <td>correct</td>\n",
       "      <td>2471</td>\n",
       "    </tr>\n",
       "    <tr>\n",
       "      <th>4</th>\n",
       "      <td>2017</td>\n",
       "      <td>correct</td>\n",
       "      <td>2144</td>\n",
       "    </tr>\n",
       "  </tbody>\n",
       "</table>\n",
       "</div>"
      ],
      "text/plain": [
       "   year    valid tickets\n",
       "0  2013  correct    1201\n",
       "1  2014  correct    2018\n",
       "2  2015  correct    2678\n",
       "3  2016  correct    2471\n",
       "4  2017  correct    2144"
      ]
     },
     "execution_count": 91,
     "metadata": {},
     "output_type": "execute_result"
    }
   ],
   "source": [
    "vcdf_out.head()"
   ]
  },
  {
   "cell_type": "code",
   "execution_count": 92,
   "metadata": {},
   "outputs": [],
   "source": [
    "vcdf_out.to_csv('../data-display/cat-tickets-misassigned.csv', index=False)"
   ]
  },
  {
   "cell_type": "markdown",
   "metadata": {},
   "source": [
    "## Average open and resolved per month"
   ]
  },
  {
   "cell_type": "code",
   "execution_count": 101,
   "metadata": {},
   "outputs": [
    {
     "data": {
      "text/plain": [
       "12004"
      ]
     },
     "execution_count": 101,
     "metadata": {},
     "output_type": "execute_result"
    }
   ],
   "source": [
    "rcdf = cdf[cdf['resolved'].notnull()]\n",
    "rcdf.shape[0]"
   ]
  },
  {
   "cell_type": "code",
   "execution_count": 99,
   "metadata": {},
   "outputs": [],
   "source": [
    "total_tickets = cdf.shape[0]"
   ]
  },
  {
   "cell_type": "code",
   "execution_count": 100,
   "metadata": {},
   "outputs": [
    {
     "data": {
      "text/plain": [
       "14470"
      ]
     },
     "execution_count": 100,
     "metadata": {},
     "output_type": "execute_result"
    }
   ],
   "source": [
    "total_tickets"
   ]
  },
  {
   "cell_type": "code",
   "execution_count": 105,
   "metadata": {},
   "outputs": [
    {
     "name": "stdout",
     "output_type": "stream",
     "text": [
      "2013 5 174\n",
      "5.8\n",
      "2013 6 132\n",
      "4.4\n",
      "2013 7 141\n",
      "4.7\n",
      "2013 8 187\n",
      "6.233333333333333\n",
      "2013 9 113\n",
      "3.7666666666666666\n",
      "2013 10 148\n",
      "4.933333333333334\n",
      "2013 11 163\n",
      "5.433333333333334\n",
      "2013 12 143\n",
      "4.766666666666667\n",
      "2014 1 166\n",
      "5.533333333333333\n",
      "2014 2 156\n",
      "5.2\n",
      "2014 3 162\n",
      "5.4\n",
      "2014 4 187\n",
      "6.233333333333333\n",
      "2014 5 140\n",
      "4.666666666666667\n",
      "2014 6 101\n",
      "3.3666666666666667\n",
      "2014 7 138\n",
      "4.6\n",
      "2014 8 307\n",
      "10.233333333333333\n",
      "2014 9 142\n",
      "4.733333333333333\n",
      "2014 10 190\n",
      "6.333333333333333\n",
      "2014 11 147\n",
      "4.9\n",
      "2014 12 182\n",
      "6.066666666666666\n",
      "2015 1 188\n",
      "6.266666666666667\n",
      "2015 2 173\n",
      "5.766666666666667\n",
      "2015 3 295\n",
      "9.833333333333334\n",
      "2015 4 284\n",
      "9.466666666666667\n",
      "2015 5 224\n",
      "7.466666666666667\n",
      "2015 6 245\n",
      "8.166666666666666\n",
      "2015 7 199\n",
      "6.633333333333334\n",
      "2015 8 245\n",
      "8.166666666666666\n",
      "2015 9 191\n",
      "6.366666666666666\n",
      "2015 10 224\n",
      "7.466666666666667\n",
      "2015 11 190\n",
      "6.333333333333333\n",
      "2015 12 220\n",
      "7.333333333333333\n",
      "2016 1 296\n",
      "9.866666666666667\n",
      "2016 2 200\n",
      "6.666666666666667\n",
      "2016 3 197\n",
      "6.566666666666666\n",
      "2016 4 201\n",
      "6.7\n",
      "2016 5 196\n",
      "6.533333333333333\n",
      "2016 6 182\n",
      "6.066666666666666\n",
      "2016 7 245\n",
      "8.166666666666666\n",
      "2016 8 208\n",
      "6.933333333333334\n",
      "2016 9 176\n",
      "5.866666666666666\n",
      "2016 10 205\n",
      "6.833333333333333\n",
      "2016 11 180\n",
      "6.0\n",
      "2016 12 185\n",
      "6.166666666666667\n",
      "2017 1 174\n",
      "5.8\n",
      "2017 2 210\n",
      "7.0\n",
      "2017 3 173\n",
      "5.766666666666667\n",
      "2017 4 124\n",
      "4.133333333333334\n",
      "2017 5 205\n",
      "6.833333333333333\n",
      "2017 6 192\n",
      "6.4\n",
      "2017 7 159\n",
      "5.3\n",
      "2017 8 199\n",
      "6.633333333333334\n",
      "2017 9 226\n",
      "7.533333333333333\n",
      "2017 10 174\n",
      "5.8\n",
      "2017 11 156\n",
      "5.2\n",
      "2017 12 152\n",
      "5.066666666666666\n",
      "2018 1 204\n",
      "6.8\n",
      "2018 2 182\n",
      "6.066666666666666\n",
      "2018 3 165\n",
      "5.5\n",
      "2018 4 240\n",
      "8.0\n",
      "2018 5 200\n",
      "6.666666666666667\n",
      "2018 6 113\n",
      "3.7666666666666666\n",
      "2018 7 157\n",
      "5.233333333333333\n",
      "2018 8 163\n",
      "5.433333333333334\n",
      "2018 9 141\n",
      "4.7\n",
      "2018 10 172\n",
      "5.733333333333333\n",
      "2018 11 188\n",
      "6.266666666666667\n",
      "2018 12 118\n",
      "3.933333333333333\n",
      "2019 1 165\n",
      "5.5\n",
      "2019 2 104\n",
      "3.466666666666667\n",
      "2019 3 157\n",
      "5.233333333333333\n",
      "2019 4 145\n",
      "4.833333333333333\n",
      "2019 5 122\n",
      "4.066666666666666\n",
      "2019 6 144\n",
      "4.8\n",
      "2019 7 155\n",
      "5.166666666666667\n",
      "2019 8 133\n",
      "4.433333333333334\n",
      "2019 9 178\n",
      "5.933333333333334\n",
      "2019 10 160\n",
      "5.333333333333333\n",
      "2019 11 138\n",
      "4.6\n",
      "2019 12 124\n",
      "4.133333333333334\n",
      "2020 1 145\n",
      "4.833333333333333\n",
      "2020 2 45\n",
      "1.5\n"
     ]
    }
   ],
   "source": [
    "for year, ydf in cdf.groupby(cdf['created'].map(lambda x: x.year)):\n",
    "    for month, mdf in ydf.groupby(ydf['created'].map(lambda m: m.month)):\n",
    "        print(year, month, mdf.shape[0])\n",
    "        print(mdf.shape[0] / 30)"
   ]
  },
  {
   "cell_type": "code",
   "execution_count": null,
   "metadata": {},
   "outputs": [],
   "source": []
  }
 ],
 "metadata": {
  "kernelspec": {
   "display_name": "Python 3",
   "language": "python",
   "name": "python3"
  },
  "language_info": {
   "codemirror_mode": {
    "name": "ipython",
    "version": 3
   },
   "file_extension": ".py",
   "mimetype": "text/x-python",
   "name": "python",
   "nbconvert_exporter": "python",
   "pygments_lexer": "ipython3",
   "version": "3.7.2"
  }
 },
 "nbformat": 4,
 "nbformat_minor": 4
}
